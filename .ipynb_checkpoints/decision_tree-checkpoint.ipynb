{
 "cells": [
  {
   "cell_type": "code",
   "execution_count": 92,
   "metadata": {},
   "outputs": [],
   "source": [
    "import decision_tree\n",
    "import importlib\n",
    "importlib.reload(decision_tree)\n",
    "import matplotlib.pyplot as plt"
   ]
  },
  {
   "cell_type": "code",
   "execution_count": 93,
   "metadata": {},
   "outputs": [
    {
     "name": "stdout",
     "output_type": "stream",
     "text": [
      "[<decision tree object. turn values: [1, 3, 5, 1, 5, 1], probabilities: [0.5, 0.25, 0.125, 0.0625, 0.03125, 0.015625] >, <decision tree object. turn values: [1, 3, 5, 1, 5, 1], probabilities: [0.5, 0.25, 0.125, 0.0625, 0.03125, 0.015625] >, <decision tree object. turn values: [1, 3, 5, 1, -1], probabilities: [0.5, 0.25, 0.125, 0.0625, 0.03125] >, <decision tree object. turn values: [1, 3, 5, 2, 5, 1], probabilities: [0.5, 0.25, 0.125, 0.0625, 0.03125, 0.015625] >, <decision tree object. turn values: [1, 3, 5, 2, 5, 1], probabilities: [0.5, 0.25, 0.125, 0.0625, 0.03125, 0.015625] >, <decision tree object. turn values: [1, 3, 5, 2, -1], probabilities: [0.5, 0.25, 0.125, 0.0625, 0.03125] >, <decision tree object. turn values: [1, 3, 6, 1, 5, 1], probabilities: [0.5, 0.25, 0.125, 0.0625, 0.03125, 0.015625] >, <decision tree object. turn values: [1, 3, 6, 1, 5, 1], probabilities: [0.5, 0.25, 0.125, 0.0625, 0.03125, 0.015625] >, <decision tree object. turn values: [1, 3, 6, 1, -1], probabilities: [0.5, 0.25, 0.125, 0.0625, 0.03125] >, <decision tree object. turn values: [1, 3, 6, 2, 5, 1], probabilities: [0.5, 0.25, 0.125, 0.0625, 0.03125, 0.015625] >, <decision tree object. turn values: [1, 3, 6, 2, 5, 1], probabilities: [0.5, 0.25, 0.125, 0.0625, 0.03125, 0.015625] >, <decision tree object. turn values: [1, 3, 6, 2, -1], probabilities: [0.5, 0.25, 0.125, 0.0625, 0.03125] >, <decision tree object. turn values: [1, -1], probabilities: [0.5, 0.25] >, <decision tree object. turn values: [2, 3, 5, 1, 5, 1], probabilities: [0.5, 0.25, 0.125, 0.0625, 0.03125, 0.015625] >, <decision tree object. turn values: [2, 3, 5, 1, 5, 1], probabilities: [0.5, 0.25, 0.125, 0.0625, 0.03125, 0.015625] >, <decision tree object. turn values: [2, 3, 5, 1, -1], probabilities: [0.5, 0.25, 0.125, 0.0625, 0.03125] >, <decision tree object. turn values: [2, 3, 5, 2, 5, 1], probabilities: [0.5, 0.25, 0.125, 0.0625, 0.03125, 0.015625] >, <decision tree object. turn values: [2, 3, 5, 2, 5, 1], probabilities: [0.5, 0.25, 0.125, 0.0625, 0.03125, 0.015625] >, <decision tree object. turn values: [2, 3, 5, 2, -1], probabilities: [0.5, 0.25, 0.125, 0.0625, 0.03125] >, <decision tree object. turn values: [2, 3, 6, 1, 5, 1], probabilities: [0.5, 0.25, 0.125, 0.0625, 0.03125, 0.015625] >, <decision tree object. turn values: [2, 3, 6, 1, 5, 1], probabilities: [0.5, 0.25, 0.125, 0.0625, 0.03125, 0.015625] >, <decision tree object. turn values: [2, 3, 6, 1, -1], probabilities: [0.5, 0.25, 0.125, 0.0625, 0.03125] >, <decision tree object. turn values: [2, 3, 6, 2, 5, 1], probabilities: [0.5, 0.25, 0.125, 0.0625, 0.03125, 0.015625] >, <decision tree object. turn values: [2, 3, 6, 2, 5, 1], probabilities: [0.5, 0.25, 0.125, 0.0625, 0.03125, 0.015625] >, <decision tree object. turn values: [2, 3, 6, 2, -1], probabilities: [0.5, 0.25, 0.125, 0.0625, 0.03125] >, <decision tree object. turn values: [2, -1], probabilities: [0.5, 0.25] >]\n"
     ]
    }
   ],
   "source": [
    "trees = decision_tree.calculate_outcomes([[1,2],[3,-1],[5,6],[1,2],[5,-1],[1,1]])\n",
    "print(trees)"
   ]
  },
  {
   "cell_type": "code",
   "execution_count": 94,
   "metadata": {},
   "outputs": [
    {
     "data": {
      "text/plain": [
       "[<decision tree object. turn values: [1, 3, 5, 1, 5], probabilities: [0.5, 0.25, 0.125, 0.0625, 0.03125] >,\n",
       " <decision tree object. turn values: [1, 3, 5, 1, 5], probabilities: [0.5, 0.25, 0.125, 0.0625, 0.03125] >,\n",
       " <decision tree object. turn values: [1, 3, 5, 1, -1], probabilities: [0.5, 0.25, 0.125, 0.0625, 0.03125] >,\n",
       " <decision tree object. turn values: [1, 3, 5, 2, 5], probabilities: [0.5, 0.25, 0.125, 0.0625, 0.03125] >,\n",
       " <decision tree object. turn values: [1, 3, 5, 2, 5], probabilities: [0.5, 0.25, 0.125, 0.0625, 0.03125] >,\n",
       " <decision tree object. turn values: [1, 3, 5, 2, -1], probabilities: [0.5, 0.25, 0.125, 0.0625, 0.03125] >,\n",
       " <decision tree object. turn values: [1, 3, 6, 1, 5], probabilities: [0.5, 0.25, 0.125, 0.0625, 0.03125] >,\n",
       " <decision tree object. turn values: [1, 3, 6, 1, 5], probabilities: [0.5, 0.25, 0.125, 0.0625, 0.03125] >,\n",
       " <decision tree object. turn values: [1, 3, 6, 1, -1], probabilities: [0.5, 0.25, 0.125, 0.0625, 0.03125] >,\n",
       " <decision tree object. turn values: [1, 3, 6, 2, 5], probabilities: [0.5, 0.25, 0.125, 0.0625, 0.03125] >,\n",
       " <decision tree object. turn values: [1, 3, 6, 2, 5], probabilities: [0.5, 0.25, 0.125, 0.0625, 0.03125] >,\n",
       " <decision tree object. turn values: [1, 3, 6, 2, -1], probabilities: [0.5, 0.25, 0.125, 0.0625, 0.03125] >,\n",
       " <decision tree object. turn values: [1, -1], probabilities: [0.5, 0.25] >,\n",
       " <decision tree object. turn values: [2, 3, 5, 1, 5], probabilities: [0.5, 0.25, 0.125, 0.0625, 0.03125] >,\n",
       " <decision tree object. turn values: [2, 3, 5, 1, 5], probabilities: [0.5, 0.25, 0.125, 0.0625, 0.03125] >,\n",
       " <decision tree object. turn values: [2, 3, 5, 1, -1], probabilities: [0.5, 0.25, 0.125, 0.0625, 0.03125] >,\n",
       " <decision tree object. turn values: [2, 3, 5, 2, 5], probabilities: [0.5, 0.25, 0.125, 0.0625, 0.03125] >,\n",
       " <decision tree object. turn values: [2, 3, 5, 2, 5], probabilities: [0.5, 0.25, 0.125, 0.0625, 0.03125] >,\n",
       " <decision tree object. turn values: [2, 3, 5, 2, -1], probabilities: [0.5, 0.25, 0.125, 0.0625, 0.03125] >,\n",
       " <decision tree object. turn values: [2, 3, 6, 1, 5], probabilities: [0.5, 0.25, 0.125, 0.0625, 0.03125] >,\n",
       " <decision tree object. turn values: [2, 3, 6, 1, 5], probabilities: [0.5, 0.25, 0.125, 0.0625, 0.03125] >,\n",
       " <decision tree object. turn values: [2, 3, 6, 1, -1], probabilities: [0.5, 0.25, 0.125, 0.0625, 0.03125] >,\n",
       " <decision tree object. turn values: [2, 3, 6, 2, 5], probabilities: [0.5, 0.25, 0.125, 0.0625, 0.03125] >,\n",
       " <decision tree object. turn values: [2, 3, 6, 2, 5], probabilities: [0.5, 0.25, 0.125, 0.0625, 0.03125] >,\n",
       " <decision tree object. turn values: [2, 3, 6, 2, -1], probabilities: [0.5, 0.25, 0.125, 0.0625, 0.03125] >,\n",
       " <decision tree object. turn values: [2, -1], probabilities: [0.5, 0.25] >]"
      ]
     },
     "execution_count": 94,
     "metadata": {},
     "output_type": "execute_result"
    }
   ],
   "source": [
    "trees_round_n = []\n",
    "n = 5\n",
    "for tree in trees:\n",
    "    trees_round_n.append(tree.get_round(n))\n",
    "trees_round_n"
   ]
  },
  {
   "cell_type": "code",
   "execution_count": 95,
   "metadata": {},
   "outputs": [
    {
     "data": {
      "text/plain": [
       "<matplotlib.collections.PathCollection at 0x113eceb90>"
      ]
     },
     "execution_count": 95,
     "metadata": {},
     "output_type": "execute_result"
    },
    {
     "data": {
      "image/png": "[encoded data removed]",
      "text/plain": [
       "<Figure size 432x288 with 1 Axes>"
      ]
     },
     "metadata": {
      "needs_background": "light"
     },
     "output_type": "display_data"
    }
   ],
   "source": [
    "x = []\n",
    "y = []\n",
    "for tree in trees_round_n:\n",
    "    y.append(tree.total_balance())\n",
    "    x.append(tree.probabilities[-1])\n",
    "plt.scatter(x,y)"
   ]
  },
  {
   "cell_type": "code",
   "execution_count": null,
   "metadata": {},
   "outputs": [],
   "source": []
  },
  {
   "cell_type": "code",
   "execution_count": null,
   "metadata": {},
   "outputs": [],
   "source": []
  }
 ],
 "metadata": {
  "kernelspec": {
   "display_name": "Python 3",
   "language": "python",
   "name": "python3"
  },
  "language_info": {
   "codemirror_mode": {
    "name": "ipython",
    "version": 3
   },
   "file_extension": ".py",
   "mimetype": "text/x-python",
   "name": "python",
   "nbconvert_exporter": "python",
   "pygments_lexer": "ipython3",
   "version": "3.7.4"
  }
 },
 "nbformat": 4,
 "nbformat_minor": 4
}
